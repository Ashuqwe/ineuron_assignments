{
  "nbformat": 4,
  "nbformat_minor": 0,
  "metadata": {
    "colab": {
      "name": "Ineuron_python2.ipynb",
      "provenance": []
    },
    "kernelspec": {
      "name": "python3",
      "display_name": "Python 3"
    }
  },
  "cells": [
    {
      "cell_type": "markdown",
      "metadata": {
        "id": "63wcS02CfHzc"
      },
      "source": [
        "1. Create the below pattern using nested for loop in Python.\r\n",
        "in a comma-separated sequence on a single line.\r\n",
        "*\r\n",
        "* *\r\n",
        "* * *\r\n",
        "* * * *\r\n",
        "* * * * *\r\n",
        "* * * *\r\n",
        "* * *\r\n",
        "* *\r\n",
        "*"
      ]
    },
    {
      "cell_type": "code",
      "metadata": {
        "id": "pi9ZWqL8fRit",
        "colab": {
          "base_uri": "https://localhost:8080/"
        },
        "outputId": "17062792-b541-4d9c-c080-9dc2ebdd5bc5"
      },
      "source": [
        "for i in range(1,6):\r\n",
        "  print(\"*\" * i)\r\n",
        "  if i == 5:\r\n",
        "    a = range(i-1,0,-1)\r\n",
        "    for j in a:\r\n",
        "      print(\"*\" * j)"
      ],
      "execution_count": 29,
      "outputs": [
        {
          "output_type": "stream",
          "text": [
            "*\n",
            "**\n",
            "***\n",
            "****\n",
            "*****\n",
            "****\n",
            "***\n",
            "**\n",
            "*\n"
          ],
          "name": "stdout"
        }
      ]
    },
    {
      "cell_type": "markdown",
      "metadata": {
        "id": "6lH3YVzRmAi8"
      },
      "source": [
        "2. Write a Python program to reverse a word after accepting the input from the user."
      ]
    },
    {
      "cell_type": "code",
      "metadata": {
        "id": "NJaLzUHYgJm2",
        "colab": {
          "base_uri": "https://localhost:8080/"
        },
        "outputId": "88b8cf9e-3c1f-46c8-caea-4966c2c2d58e"
      },
      "source": [
        "word = input(\"Enter the word: \")\r\n",
        "a = ''\r\n",
        "for i in word:\r\n",
        "  a = i + a\r\n",
        "print(a)"
      ],
      "execution_count": 30,
      "outputs": [
        {
          "output_type": "stream",
          "text": [
            "Enter the word: abcsdd\n",
            "ddscba\n"
          ],
          "name": "stdout"
        }
      ]
    },
    {
      "cell_type": "code",
      "metadata": {
        "id": "JjhpvFi9u2dv"
      },
      "source": [
        ""
      ],
      "execution_count": null,
      "outputs": []
    }
  ]
}