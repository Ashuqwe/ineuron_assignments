{
  "nbformat": 4,
  "nbformat_minor": 0,
  "metadata": {
    "colab": {
      "name": "Ineuron_python1.ipynb",
      "provenance": []
    },
    "kernelspec": {
      "name": "python3",
      "display_name": "Python 3"
    }
  },
  "cells": [
    {
      "cell_type": "markdown",
      "metadata": {
        "id": "63wcS02CfHzc"
      },
      "source": [
        "1. Write a program which will find all such numbers which are divisible by 7 but are not a multiple of 5, between 2000 and 3200 (both included). The numbers obtained should be printed\r\n",
        "in a comma-separated sequence on a single line."
      ]
    },
    {
      "cell_type": "code",
      "metadata": {
        "id": "pi9ZWqL8fRit",
        "colab": {
          "base_uri": "https://localhost:8080/"
        },
        "outputId": "07dee586-b282-4dd7-b229-6f57d9dc8d4d"
      },
      "source": [
        "b = []\r\n",
        "for a in range(2000, 3201):\r\n",
        "  if a % 7 == 0 and a % 5 != 0:\r\n",
        "    b.append(a)\r\n",
        "print(b)"
      ],
      "execution_count": 6,
      "outputs": [
        {
          "output_type": "stream",
          "text": [
            "[2002, 2009, 2016, 2023, 2037, 2044, 2051, 2058, 2072, 2079, 2086, 2093, 2107, 2114, 2121, 2128, 2142, 2149, 2156, 2163, 2177, 2184, 2191, 2198, 2212, 2219, 2226, 2233, 2247, 2254, 2261, 2268, 2282, 2289, 2296, 2303, 2317, 2324, 2331, 2338, 2352, 2359, 2366, 2373, 2387, 2394, 2401, 2408, 2422, 2429, 2436, 2443, 2457, 2464, 2471, 2478, 2492, 2499, 2506, 2513, 2527, 2534, 2541, 2548, 2562, 2569, 2576, 2583, 2597, 2604, 2611, 2618, 2632, 2639, 2646, 2653, 2667, 2674, 2681, 2688, 2702, 2709, 2716, 2723, 2737, 2744, 2751, 2758, 2772, 2779, 2786, 2793, 2807, 2814, 2821, 2828, 2842, 2849, 2856, 2863, 2877, 2884, 2891, 2898, 2912, 2919, 2926, 2933, 2947, 2954, 2961, 2968, 2982, 2989, 2996, 3003, 3017, 3024, 3031, 3038, 3052, 3059, 3066, 3073, 3087, 3094, 3101, 3108, 3122, 3129, 3136, 3143, 3157, 3164, 3171, 3178, 3192, 3199]\n"
          ],
          "name": "stdout"
        }
      ]
    },
    {
      "cell_type": "markdown",
      "metadata": {
        "id": "6lH3YVzRmAi8"
      },
      "source": [
        "2. Write a Python program to accept the user's first and last name and then getting them printed in the the reverse order with a space between first name and last name."
      ]
    },
    {
      "cell_type": "code",
      "metadata": {
        "id": "NJaLzUHYgJm2",
        "colab": {
          "base_uri": "https://localhost:8080/"
        },
        "outputId": "deb41915-9b09-48f7-ff67-f09dc17b837e"
      },
      "source": [
        "f_name = input(\"Enter first name: \")\r\n",
        "l_name = input(\"Enter last name: \")\r\n",
        "\r\n",
        "print(l_name + \" \" + f_name)"
      ],
      "execution_count": 8,
      "outputs": [
        {
          "output_type": "stream",
          "text": [
            "Enter first name: a\n",
            "Enter last name: b\n",
            "b a\n"
          ],
          "name": "stdout"
        }
      ]
    },
    {
      "cell_type": "markdown",
      "metadata": {
        "id": "KJfK5KICotgO"
      },
      "source": [
        "##### If we have to reverse the firstname and the last name string as well."
      ]
    },
    {
      "cell_type": "code",
      "metadata": {
        "colab": {
          "base_uri": "https://localhost:8080/"
        },
        "id": "-5o0HIWmmySc",
        "outputId": "c3f58f03-d92c-4632-8d4b-df205358f1df"
      },
      "source": [
        "f_name = input(\"Enter first name: \")\r\n",
        "l_name = input(\"Enter last name: \")\r\n",
        "f ='' \r\n",
        "l = ''\r\n",
        "for i in f_name:\r\n",
        "  f = i + f\r\n",
        "for i in l_name:\r\n",
        "  l = i + l\r\n",
        "print(l + \" \" + f)"
      ],
      "execution_count": 14,
      "outputs": [
        {
          "output_type": "stream",
          "text": [
            "Enter first name: abc\n",
            "Enter last name: pqr\n",
            "rqp cba\n"
          ],
          "name": "stdout"
        }
      ]
    },
    {
      "cell_type": "markdown",
      "metadata": {
        "id": "uMqSsuWzpAPm"
      },
      "source": [
        "Write a Python program to find the volume of a sphere with diameter 12 cm."
      ]
    },
    {
      "cell_type": "code",
      "metadata": {
        "colab": {
          "base_uri": "https://localhost:8080/"
        },
        "id": "FEUkw36_o35M",
        "outputId": "c67080af-8397-4469-eaa0-4b5f43169ff4"
      },
      "source": [
        "import math as m\r\n",
        "#diameter defination\r\n",
        "d = 12\r\n",
        "#Volume v = 4/3 *pi * (radius) ^3\r\n",
        "volume = (4 * m.pi * ((d/2)**3))/3\r\n",
        "print(volume)"
      ],
      "execution_count": 18,
      "outputs": [
        {
          "output_type": "stream",
          "text": [
            "904.7786842338604\n"
          ],
          "name": "stdout"
        }
      ]
    },
    {
      "cell_type": "code",
      "metadata": {
        "id": "CE3m3oxPpoZf"
      },
      "source": [
        ""
      ],
      "execution_count": null,
      "outputs": []
    }
  ]
}